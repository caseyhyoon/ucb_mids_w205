{
 "cells": [
  {
   "cell_type": "markdown",
   "metadata": {},
   "source": [
    "# Project 1"
   ]
  },
  {
   "cell_type": "markdown",
   "metadata": {},
   "source": [
    "#### import statements"
   ]
  },
  {
   "cell_type": "code",
   "execution_count": 1,
   "metadata": {},
   "outputs": [],
   "source": [
    "import pandas as pd\n",
    "import seaborn as sns\n",
    "import matplotlib.pyplot as plt\n",
    "import numpy as np"
   ]
  },
  {
   "cell_type": "markdown",
   "metadata": {},
   "source": [
    "## What are the 5 most popular trips that you would call \"commuter\" trips?"
   ]
  },
  {
   "cell_type": "markdown",
   "metadata": {},
   "source": [
    "##### \"Commuter\" trips should be relatively consistent as these commuters have a regular schedule (work, school, etc.) Subscribers are consistent users of Lyft BayWheels as they pay for a monthly or yearly membership, thus making them prime candidates for analyzing \"commuter\" trips"
   ]
  },
  {
   "cell_type": "markdown",
   "metadata": {},
   "source": [
    "##### Afternoons and mornings make up the two most common subscriber trips"
   ]
  },
  {
   "cell_type": "markdown",
   "metadata": {},
   "source": [
    "(A)"
   ]
  },
  {
   "cell_type": "code",
   "execution_count": 2,
   "metadata": {},
   "outputs": [
    {
     "name": "stdout",
     "output_type": "stream",
     "text": [
      "Waiting on bqjob_r52d8301772abe107_00000174e80f978b_1 ... (0s) Current status: DONE   \n"
     ]
    }
   ],
   "source": [
    "! bq query --use_legacy_sql=FALSE --format=csv 'SELECT COUNT(*) AS count, CASE WHEN EXTRACT(HOUR FROM start_date) <= 5  OR EXTRACT(HOUR FROM start_date) >= 23 THEN \"Nightime\" WHEN EXTRACT(HOUR FROM start_date) >= 6 and EXTRACT(HOUR FROM start_date) <= 8 THEN \"Morning\" WHEN EXTRACT(HOUR FROM start_date) >= 9 and EXTRACT(HOUR FROM start_date) <= 10 THEN \"Mid Morning\" WHEN EXTRACT(HOUR FROM start_date) >= 11 and EXTRACT(HOUR FROM start_date) <= 13 THEN \"Mid Day\" WHEN EXTRACT(HOUR FROM start_date) >= 14 and EXTRACT(HOUR FROM start_date) <= 16 THEN \"Early Afternoon\" WHEN EXTRACT(HOUR FROM start_date) >= 17 and EXTRACT(HOUR FROM start_date) <= 19 THEN \"Afternoon\" WHEN EXTRACT(HOUR FROM start_date) >= 20 and EXTRACT(HOUR FROM start_date) <= 22 THEN \"Evening\" END AS start_hour_str FROM `my-first-project-287722.bike_trip_data.bikeshare_trips` WHERE subscriber_type=\"Subscriber\" GROUP BY start_hour_str ORDER BY count DESC' > sub_besttime.csv"
   ]
  },
  {
   "cell_type": "code",
   "execution_count": 3,
   "metadata": {},
   "outputs": [
    {
     "data": {
      "text/html": [
       "<div>\n",
       "<style scoped>\n",
       "    .dataframe tbody tr th:only-of-type {\n",
       "        vertical-align: middle;\n",
       "    }\n",
       "\n",
       "    .dataframe tbody tr th {\n",
       "        vertical-align: top;\n",
       "    }\n",
       "\n",
       "    .dataframe thead th {\n",
       "        text-align: right;\n",
       "    }\n",
       "</style>\n",
       "<table border=\"1\" class=\"dataframe\">\n",
       "  <thead>\n",
       "    <tr style=\"text-align: right;\">\n",
       "      <th></th>\n",
       "      <th>count</th>\n",
       "      <th>start_hour_str</th>\n",
       "    </tr>\n",
       "  </thead>\n",
       "  <tbody>\n",
       "    <tr>\n",
       "      <th>0</th>\n",
       "      <td>226228</td>\n",
       "      <td>Afternoon</td>\n",
       "    </tr>\n",
       "    <tr>\n",
       "      <th>1</th>\n",
       "      <td>211691</td>\n",
       "      <td>Morning</td>\n",
       "    </tr>\n",
       "    <tr>\n",
       "      <th>2</th>\n",
       "      <td>135986</td>\n",
       "      <td>Early Afternoon</td>\n",
       "    </tr>\n",
       "    <tr>\n",
       "      <th>3</th>\n",
       "      <td>124078</td>\n",
       "      <td>Mid Morning</td>\n",
       "    </tr>\n",
       "    <tr>\n",
       "      <th>4</th>\n",
       "      <td>94766</td>\n",
       "      <td>Mid Day</td>\n",
       "    </tr>\n",
       "  </tbody>\n",
       "</table>\n",
       "</div>"
      ],
      "text/plain": [
       "    count   start_hour_str\n",
       "0  226228        Afternoon\n",
       "1  211691          Morning\n",
       "2  135986  Early Afternoon\n",
       "3  124078      Mid Morning\n",
       "4   94766          Mid Day"
      ]
     },
     "execution_count": 3,
     "metadata": {},
     "output_type": "execute_result"
    }
   ],
   "source": [
    "sub_besttime = pd.read_csv(\"sub_besttime.csv\")\n",
    "sub_besttime.head()"
   ]
  },
  {
   "cell_type": "code",
   "execution_count": 4,
   "metadata": {},
   "outputs": [
    {
     "data": {
      "image/png": "[encoded data removed]",
      "text/plain": [
       "<Figure size 432x288 with 1 Axes>"
      ]
     },
     "metadata": {
      "needs_background": "light"
     },
     "output_type": "display_data"
    }
   ],
   "source": [
    "ax = sns.barplot(x='start_hour_str', y='count', data=sub_besttime)\n",
    "ax.set_xticklabels(ax.get_xticklabels(), rotation=40, ha=\"right\")\n",
    "plt.tight_layout()\n",
    "plt.show()"
   ]
  },
  {
   "cell_type": "markdown",
   "metadata": {},
   "source": [
    "##### The 5 most popular starting stations for subscribers for morning/afternoon trips are:\n",
    "\n",
    "```\n",
    "San Francisco Caltrain (Townsend at 4th)\n",
    "San Francisco Caltrain 2 (330 Townsend)\n",
    "Temporary Transbay Terminal (Howard at Beale)\n",
    "Harry Bridges Plaza (Ferry Building)\n",
    "Steuart at Market\n",
    "```"
   ]
  },
  {
   "cell_type": "markdown",
   "metadata": {},
   "source": [
    "(B)"
   ]
  },
  {
   "cell_type": "code",
   "execution_count": 5,
   "metadata": {},
   "outputs": [
    {
     "name": "stdout",
     "output_type": "stream",
     "text": [
      "Waiting on bqjob_r797751147b9190c9_00000174e80fa156_1 ... (0s) Current status: DONE   \n",
      "+-------+-----------------------------------------------+\n",
      "| count |              start_station_name               |\n",
      "+-------+-----------------------------------------------+\n",
      "| 47754 | San Francisco Caltrain (Townsend at 4th)      |\n",
      "| 31903 | San Francisco Caltrain 2 (330 Townsend)       |\n",
      "| 23696 | Temporary Transbay Terminal (Howard at Beale) |\n",
      "| 22107 | Harry Bridges Plaza (Ferry Building)          |\n",
      "| 17941 | Steuart at Market                             |\n",
      "+-------+-----------------------------------------------+\n"
     ]
    }
   ],
   "source": [
    "! bq query --use_legacy_sql=FALSE 'SELECT COUNT(*) AS count, start_station_name FROM `my-first-project-287722.bike_trip_data.bikeshare_trips` WHERE subscriber_type = \"Subscriber\" AND ((EXTRACT(HOUR FROM start_date) >= 6 and EXTRACT(HOUR FROM start_date) <= 8) OR (EXTRACT(HOUR FROM start_date) >= 17 and EXTRACT(HOUR FROM start_date) <= 19) ) GROUP BY start_station_name, subscriber_type ORDER BY count DESC LIMIT 5'"
   ]
  },
  {
   "cell_type": "markdown",
   "metadata": {},
   "source": [
    "##### Answer: The 5 most popular \"commuter\" trips would have to be a morning or afternoon trip from one of these stations:\n",
    "\n",
    "```\n",
    "1. San Francisco Caltrain (Townsend at 4th)\n",
    "2. San Francisco Caltrain 2 (330 Townsend)\n",
    "3. Temporary Transbay Terminal (Howard at Beale)\n",
    "4. Harry Bridges Plaza (Ferry Building)\n",
    "5. Steuart at Market\n",
    "```"
   ]
  },
  {
   "cell_type": "markdown",
   "metadata": {},
   "source": [
    "## Recommendations based on findings"
   ]
  },
  {
   "cell_type": "markdown",
   "metadata": {},
   "source": [
    "##### On average, a subscriber's trip takes less than 10 minutes"
   ]
  },
  {
   "cell_type": "markdown",
   "metadata": {},
   "source": [
    "(C)"
   ]
  },
  {
   "cell_type": "code",
   "execution_count": 6,
   "metadata": {},
   "outputs": [
    {
     "name": "stdout",
     "output_type": "stream",
     "text": [
      "Waiting on bqjob_r317f4e3268291d2c_00000174e80fa828_1 ... (0s) Current status: DONE   \n",
      "+-------------------+-----------------+\n",
      "| avg_duration_min  | start_hour_str  |\n",
      "+-------------------+-----------------+\n",
      "| 9.798219716392616 | Afternoon       |\n",
      "| 9.717589641854733 | Mid Day         |\n",
      "| 9.267532482308232 | Nightime        |\n",
      "|  9.87304649007978 | Early Afternoon |\n",
      "| 9.449355647254128 | Mid Morning     |\n",
      "| 9.783906341117099 | Evening         |\n",
      "| 9.688156952035248 | Morning         |\n",
      "+-------------------+-----------------+\n"
     ]
    }
   ],
   "source": [
    "! bq query --use_legacy_sql=FALSE 'SELECT avg(duration_sec/60) AS avg_duration_min, CASE WHEN EXTRACT(HOUR FROM start_date) <= 5  OR EXTRACT(HOUR FROM start_date) >= 23 THEN \"Nightime\" WHEN EXTRACT(HOUR FROM start_date) >= 6 and EXTRACT(HOUR FROM start_date) <= 8 THEN \"Morning\" WHEN EXTRACT(HOUR FROM start_date) >= 9 and EXTRACT(HOUR FROM start_date) <= 10 THEN \"Mid Morning\" WHEN EXTRACT(HOUR FROM start_date) >= 11 and EXTRACT(HOUR FROM start_date) <= 13 THEN \"Mid Day\" WHEN EXTRACT(HOUR FROM start_date) >= 14 and EXTRACT(HOUR FROM start_date) <= 16 THEN \"Early Afternoon\" WHEN EXTRACT(HOUR FROM start_date) >= 17 and EXTRACT(HOUR FROM start_date) <= 19 THEN \"Afternoon\" WHEN EXTRACT(HOUR FROM start_date) >= 20 and EXTRACT(HOUR FROM start_date) <= 22 THEN \"Evening\" END AS start_hour_str FROM `bigquery-public-data.san_francisco.bikeshare_trips` WHERE subscriber_type = \"Subscriber\" GROUP BY start_hour_str, subscriber_type'"
   ]
  },
  {
   "cell_type": "markdown",
   "metadata": {},
   "source": [
    "##### Whereas, a customer's (no monthly or yearly subscription)) trip takes well over 40 minutes. However, afternoon riders have an average trip time under 45 minutes which is the cutoff before additional prices are added to your total costs."
   ]
  },
  {
   "cell_type": "markdown",
   "metadata": {},
   "source": [
    "(D)"
   ]
  },
  {
   "cell_type": "code",
   "execution_count": 7,
   "metadata": {},
   "outputs": [
    {
     "name": "stdout",
     "output_type": "stream",
     "text": [
      "Waiting on bqjob_ra0d488a76fe9bfb_00000174e80faf51_1 ... (0s) Current status: DONE   \n"
     ]
    }
   ],
   "source": [
    "! bq query --use_legacy_sql=FALSE --format=csv 'SELECT avg(duration_sec/60) AS avg_duration_min, CASE WHEN EXTRACT(HOUR FROM start_date) <= 5  OR EXTRACT(HOUR FROM start_date) >= 23 THEN \"Nightime\" WHEN EXTRACT(HOUR FROM start_date) >= 6 and EXTRACT(HOUR FROM start_date) <= 8 THEN \"Morning\" WHEN EXTRACT(HOUR FROM start_date) >= 9 and EXTRACT(HOUR FROM start_date) <= 10 THEN \"Mid Morning\" WHEN EXTRACT(HOUR FROM start_date) >= 11 and EXTRACT(HOUR FROM start_date) <= 13 THEN \"Mid Day\" WHEN EXTRACT(HOUR FROM start_date) >= 14 and EXTRACT(HOUR FROM start_date) <= 16 THEN \"Early Afternoon\" WHEN EXTRACT(HOUR FROM start_date) >= 17 and EXTRACT(HOUR FROM start_date) <= 19 THEN \"Afternoon\" WHEN EXTRACT(HOUR FROM start_date) >= 20 and EXTRACT(HOUR FROM start_date) <= 22 THEN \"Evening\" END AS start_hour_str FROM `bigquery-public-data.san_francisco.bikeshare_trips` WHERE subscriber_type = \"Customer\" GROUP BY start_hour_str, subscriber_type' > avg_durationmin_customer.csv"
   ]
  },
  {
   "cell_type": "code",
   "execution_count": 8,
   "metadata": {},
   "outputs": [
    {
     "data": {
      "text/html": [
       "<div>\n",
       "<style scoped>\n",
       "    .dataframe tbody tr th:only-of-type {\n",
       "        vertical-align: middle;\n",
       "    }\n",
       "\n",
       "    .dataframe tbody tr th {\n",
       "        vertical-align: top;\n",
       "    }\n",
       "\n",
       "    .dataframe thead th {\n",
       "        text-align: right;\n",
       "    }\n",
       "</style>\n",
       "<table border=\"1\" class=\"dataframe\">\n",
       "  <thead>\n",
       "    <tr style=\"text-align: right;\">\n",
       "      <th></th>\n",
       "      <th>avg_duration_min</th>\n",
       "      <th>start_hour_str</th>\n",
       "    </tr>\n",
       "  </thead>\n",
       "  <tbody>\n",
       "    <tr>\n",
       "      <th>0</th>\n",
       "      <td>42.372552</td>\n",
       "      <td>Afternoon</td>\n",
       "    </tr>\n",
       "    <tr>\n",
       "      <th>1</th>\n",
       "      <td>75.314749</td>\n",
       "      <td>Mid Morning</td>\n",
       "    </tr>\n",
       "    <tr>\n",
       "      <th>2</th>\n",
       "      <td>68.495105</td>\n",
       "      <td>Mid Day</td>\n",
       "    </tr>\n",
       "    <tr>\n",
       "      <th>3</th>\n",
       "      <td>85.238378</td>\n",
       "      <td>Evening</td>\n",
       "    </tr>\n",
       "    <tr>\n",
       "      <th>4</th>\n",
       "      <td>55.694316</td>\n",
       "      <td>Early Afternoon</td>\n",
       "    </tr>\n",
       "  </tbody>\n",
       "</table>\n",
       "</div>"
      ],
      "text/plain": [
       "   avg_duration_min   start_hour_str\n",
       "0         42.372552        Afternoon\n",
       "1         75.314749      Mid Morning\n",
       "2         68.495105          Mid Day\n",
       "3         85.238378          Evening\n",
       "4         55.694316  Early Afternoon"
      ]
     },
     "execution_count": 8,
     "metadata": {},
     "output_type": "execute_result"
    }
   ],
   "source": [
    "avg_durationmin_customer = pd.read_csv(\"avg_durationmin_customer.csv\")\n",
    "avg_durationmin_customer.head()"
   ]
  },
  {
   "cell_type": "markdown",
   "metadata": {},
   "source": [
    "### Recommendation 1:\n",
    "Single ride caps at 30 minutes and charge additional fees every 15 minutes.\n",
    "\n",
    "For customers without a subscription, I would recommend advertising monthly memberships that highlight the unlimited amount of 45-minute rides or at least an access pass that offers unlimited amount of 45-minute rides for a day. This can potentially lead to new subscribers."
   ]
  },
  {
   "cell_type": "markdown",
   "metadata": {},
   "source": [
    "___"
   ]
  },
  {
   "cell_type": "markdown",
   "metadata": {},
   "source": [
    "##### We also find that Early Afternoon and Mid Day are the most popular times for customers"
   ]
  },
  {
   "cell_type": "markdown",
   "metadata": {},
   "source": [
    "(E)"
   ]
  },
  {
   "cell_type": "code",
   "execution_count": 9,
   "metadata": {},
   "outputs": [
    {
     "name": "stdout",
     "output_type": "stream",
     "text": [
      "Waiting on bqjob_r6f7f3fbc6314bfac_00000174e80fb6a3_1 ... (0s) Current status: DONE   \n"
     ]
    }
   ],
   "source": [
    "! bq query --use_legacy_sql=FALSE --format=csv 'SELECT COUNT(*) AS count, CASE WHEN EXTRACT(HOUR FROM start_date) <= 5  OR EXTRACT(HOUR FROM start_date) >= 23 THEN \"Nightime\" WHEN EXTRACT(HOUR FROM start_date) >= 6 and EXTRACT(HOUR FROM start_date) <= 8 THEN \"Morning\" WHEN EXTRACT(HOUR FROM start_date) >= 9 and EXTRACT(HOUR FROM start_date) <= 10 THEN \"Mid Morning\" WHEN EXTRACT(HOUR FROM start_date) >= 11 and EXTRACT(HOUR FROM start_date) <= 13 THEN \"Mid Day\" WHEN EXTRACT(HOUR FROM start_date) >= 14 and EXTRACT(HOUR FROM start_date) <= 16 THEN \"Early Afternoon\" WHEN EXTRACT(HOUR FROM start_date) >= 17 and EXTRACT(HOUR FROM start_date) <= 19 THEN \"Afternoon\" WHEN EXTRACT(HOUR FROM start_date) >= 20 and EXTRACT(HOUR FROM start_date) <= 22 THEN \"Evening\" END AS start_hour_str FROM `my-first-project-287722.bike_trip_data.bikeshare_trips` WHERE subscriber_type=\"Customer\" GROUP BY start_hour_str ORDER BY count DESC' > cust_besttime.csv"
   ]
  },
  {
   "cell_type": "code",
   "execution_count": 10,
   "metadata": {},
   "outputs": [
    {
     "data": {
      "text/html": [
       "<div>\n",
       "<style scoped>\n",
       "    .dataframe tbody tr th:only-of-type {\n",
       "        vertical-align: middle;\n",
       "    }\n",
       "\n",
       "    .dataframe tbody tr th {\n",
       "        vertical-align: top;\n",
       "    }\n",
       "\n",
       "    .dataframe thead th {\n",
       "        text-align: right;\n",
       "    }\n",
       "</style>\n",
       "<table border=\"1\" class=\"dataframe\">\n",
       "  <thead>\n",
       "    <tr style=\"text-align: right;\">\n",
       "      <th></th>\n",
       "      <th>count</th>\n",
       "      <th>start_hour_str</th>\n",
       "    </tr>\n",
       "  </thead>\n",
       "  <tbody>\n",
       "    <tr>\n",
       "      <th>0</th>\n",
       "      <td>38247</td>\n",
       "      <td>Early Afternoon</td>\n",
       "    </tr>\n",
       "    <tr>\n",
       "      <th>1</th>\n",
       "      <td>36305</td>\n",
       "      <td>Mid Day</td>\n",
       "    </tr>\n",
       "  </tbody>\n",
       "</table>\n",
       "</div>"
      ],
      "text/plain": [
       "   count   start_hour_str\n",
       "0  38247  Early Afternoon\n",
       "1  36305          Mid Day"
      ]
     },
     "execution_count": 10,
     "metadata": {},
     "output_type": "execute_result"
    }
   ],
   "source": [
    "cust_besttime = pd.read_csv(\"cust_besttime.csv\")\n",
    "cust_besttime.head(2)"
   ]
  },
  {
   "cell_type": "code",
   "execution_count": 11,
   "metadata": {},
   "outputs": [
    {
     "data": {
      "image/png": "[encoded data removed]",
      "text/plain": [
       "<Figure size 432x288 with 1 Axes>"
      ]
     },
     "metadata": {
      "needs_background": "light"
     },
     "output_type": "display_data"
    }
   ],
   "source": [
    "ax = sns.barplot(x='start_hour_str', y='count', data=sub_besttime)\n",
    "ax.set_xticklabels(ax.get_xticklabels(), rotation=40, ha=\"right\")\n",
    "plt.tight_layout()\n",
    "plt.show()"
   ]
  },
  {
   "cell_type": "markdown",
   "metadata": {},
   "source": [
    "##### Considering the 5 most popular starting stations for customers for mid day/early afternoon trips are:\n",
    "\n",
    "```\n",
    "Embarcadero at Sansome\n",
    "Harry Bridges Plaza (Ferry Building)\n",
    "Embarcadero at Vallejo\n",
    "Market at 4th\n",
    "Powell Street BART \n",
    "```"
   ]
  },
  {
   "cell_type": "markdown",
   "metadata": {},
   "source": [
    "(F)"
   ]
  },
  {
   "cell_type": "code",
   "execution_count": 12,
   "metadata": {},
   "outputs": [
    {
     "name": "stdout",
     "output_type": "stream",
     "text": [
      "Waiting on bqjob_r78813c5dd3aa3724_00000174e80fbe31_1 ... (0s) Current status: DONE   \n"
     ]
    }
   ],
   "source": [
    "! bq query --use_legacy_sql=FALSE --format=csv 'SELECT COUNT(*) AS count, start_station_name FROM `my-first-project-287722.bike_trip_data.bikeshare_trips` WHERE subscriber_type = \"Customer\" AND ((EXTRACT(HOUR FROM start_date) >= 11 and EXTRACT(HOUR FROM start_date) <= 13) OR (EXTRACT(HOUR FROM start_date) >= 14 and EXTRACT(HOUR FROM start_date) <= 16) ) GROUP BY start_station_name, subscriber_type ORDER BY count DESC' > pop_stations_mid_earlyaft.csv"
   ]
  },
  {
   "cell_type": "code",
   "execution_count": 13,
   "metadata": {},
   "outputs": [
    {
     "data": {
      "text/html": [
       "<div>\n",
       "<style scoped>\n",
       "    .dataframe tbody tr th:only-of-type {\n",
       "        vertical-align: middle;\n",
       "    }\n",
       "\n",
       "    .dataframe tbody tr th {\n",
       "        vertical-align: top;\n",
       "    }\n",
       "\n",
       "    .dataframe thead th {\n",
       "        text-align: right;\n",
       "    }\n",
       "</style>\n",
       "<table border=\"1\" class=\"dataframe\">\n",
       "  <thead>\n",
       "    <tr style=\"text-align: right;\">\n",
       "      <th></th>\n",
       "      <th>count</th>\n",
       "      <th>start_station_name</th>\n",
       "    </tr>\n",
       "  </thead>\n",
       "  <tbody>\n",
       "    <tr>\n",
       "      <th>0</th>\n",
       "      <td>8411</td>\n",
       "      <td>Embarcadero at Sansome</td>\n",
       "    </tr>\n",
       "    <tr>\n",
       "      <th>1</th>\n",
       "      <td>7568</td>\n",
       "      <td>Harry Bridges Plaza (Ferry Building)</td>\n",
       "    </tr>\n",
       "    <tr>\n",
       "      <th>2</th>\n",
       "      <td>3175</td>\n",
       "      <td>Embarcadero at Vallejo</td>\n",
       "    </tr>\n",
       "    <tr>\n",
       "      <th>3</th>\n",
       "      <td>3131</td>\n",
       "      <td>Market at 4th</td>\n",
       "    </tr>\n",
       "    <tr>\n",
       "      <th>4</th>\n",
       "      <td>2712</td>\n",
       "      <td>Powell Street BART</td>\n",
       "    </tr>\n",
       "  </tbody>\n",
       "</table>\n",
       "</div>"
      ],
      "text/plain": [
       "   count                    start_station_name\n",
       "0   8411                Embarcadero at Sansome\n",
       "1   7568  Harry Bridges Plaza (Ferry Building)\n",
       "2   3175                Embarcadero at Vallejo\n",
       "3   3131                         Market at 4th\n",
       "4   2712                    Powell Street BART"
      ]
     },
     "execution_count": 13,
     "metadata": {},
     "output_type": "execute_result"
    }
   ],
   "source": [
    "pop_stations_mid_earlyaft = pd.read_csv(\"pop_stations_mid_earlyaft.csv\")\n",
    "pop_stations_mid_earlyaft.head()"
   ]
  },
  {
   "cell_type": "markdown",
   "metadata": {},
   "source": [
    "(G)"
   ]
  },
  {
   "cell_type": "code",
   "execution_count": 14,
   "metadata": {},
   "outputs": [
    {
     "name": "stdout",
     "output_type": "stream",
     "text": [
      "Waiting on bqjob_r318debe5ec918d56_00000174e80fc4ed_1 ... (0s) Current status: DONE   \n"
     ]
    }
   ],
   "source": [
    "! bq query --use_legacy_sql=FALSE --format=csv 'SELECT stations.name, avg(status.bikes_available) AS bike_availability FROM `my-first-project-287722.bike_trip_data.bikeshare_status` status LEFT JOIN `my-first-project-287722.bike_trip_data.bikeshare_stations` stations ON status.station_id = stations.station_id AND ((EXTRACT(HOUR FROM status.time) >= 11 AND EXTRACT(HOUR FROM status.time) <= 13) OR (EXTRACT(HOUR FROM status.time) >= 14 AND EXTRACT(HOUR FROM status.time) <= 16)) GROUP BY stations.name ORDER BY bike_availability DESC' > mid_earlyaft_availability.csv\n"
   ]
  },
  {
   "cell_type": "markdown",
   "metadata": {},
   "source": [
    "##### Harry Bridges Plaza (Ferry Building) Ranks 16th in bike availability when it is the 2nd most common customer trip during mid day/early afternoon."
   ]
  },
  {
   "cell_type": "code",
   "execution_count": 15,
   "metadata": {},
   "outputs": [
    {
     "data": {
      "text/html": [
       "<div>\n",
       "<style scoped>\n",
       "    .dataframe tbody tr th:only-of-type {\n",
       "        vertical-align: middle;\n",
       "    }\n",
       "\n",
       "    .dataframe tbody tr th {\n",
       "        vertical-align: top;\n",
       "    }\n",
       "\n",
       "    .dataframe thead th {\n",
       "        text-align: right;\n",
       "    }\n",
       "</style>\n",
       "<table border=\"1\" class=\"dataframe\">\n",
       "  <thead>\n",
       "    <tr style=\"text-align: right;\">\n",
       "      <th></th>\n",
       "      <th>name</th>\n",
       "      <th>bike_availability</th>\n",
       "    </tr>\n",
       "  </thead>\n",
       "  <tbody>\n",
       "    <tr>\n",
       "      <th>15</th>\n",
       "      <td>Harry Bridges Plaza (Ferry Building)</td>\n",
       "      <td>9.475297</td>\n",
       "    </tr>\n",
       "  </tbody>\n",
       "</table>\n",
       "</div>"
      ],
      "text/plain": [
       "                                    name  bike_availability\n",
       "15  Harry Bridges Plaza (Ferry Building)           9.475297"
      ]
     },
     "execution_count": 15,
     "metadata": {},
     "output_type": "execute_result"
    }
   ],
   "source": [
    "mid_earlyaft_availability = pd.read_csv(\"mid_earlyaft_availability.csv\")\n",
    "mid_earlyaft_availability[mid_earlyaft_availability['name'] == \"Harry Bridges Plaza (Ferry Building)\"]\n",
    "\n"
   ]
  },
  {
   "cell_type": "code",
   "execution_count": 16,
   "metadata": {},
   "outputs": [
    {
     "data": {
      "text/html": [
       "<div>\n",
       "<style scoped>\n",
       "    .dataframe tbody tr th:only-of-type {\n",
       "        vertical-align: middle;\n",
       "    }\n",
       "\n",
       "    .dataframe tbody tr th {\n",
       "        vertical-align: top;\n",
       "    }\n",
       "\n",
       "    .dataframe thead th {\n",
       "        text-align: right;\n",
       "    }\n",
       "</style>\n",
       "<table border=\"1\" class=\"dataframe\">\n",
       "  <thead>\n",
       "    <tr style=\"text-align: right;\">\n",
       "      <th></th>\n",
       "      <th>count</th>\n",
       "      <th>start_station_name</th>\n",
       "    </tr>\n",
       "  </thead>\n",
       "  <tbody>\n",
       "    <tr>\n",
       "      <th>1</th>\n",
       "      <td>7568</td>\n",
       "      <td>Harry Bridges Plaza (Ferry Building)</td>\n",
       "    </tr>\n",
       "  </tbody>\n",
       "</table>\n",
       "</div>"
      ],
      "text/plain": [
       "   count                    start_station_name\n",
       "1   7568  Harry Bridges Plaza (Ferry Building)"
      ]
     },
     "execution_count": 16,
     "metadata": {},
     "output_type": "execute_result"
    }
   ],
   "source": [
    "pop_stations_mid_earlyaft[pop_stations_mid_earlyaft['start_station_name'] == \"Harry Bridges Plaza (Ferry Building)\"]\n"
   ]
  },
  {
   "cell_type": "markdown",
   "metadata": {},
   "source": [
    "##### Embarcadero at Sansome Ranks 20th in bike availability when it is the 1st most common customer trip during mid day/early afternoon."
   ]
  },
  {
   "cell_type": "code",
   "execution_count": 17,
   "metadata": {},
   "outputs": [
    {
     "data": {
      "text/html": [
       "<div>\n",
       "<style scoped>\n",
       "    .dataframe tbody tr th:only-of-type {\n",
       "        vertical-align: middle;\n",
       "    }\n",
       "\n",
       "    .dataframe tbody tr th {\n",
       "        vertical-align: top;\n",
       "    }\n",
       "\n",
       "    .dataframe thead th {\n",
       "        text-align: right;\n",
       "    }\n",
       "</style>\n",
       "<table border=\"1\" class=\"dataframe\">\n",
       "  <thead>\n",
       "    <tr style=\"text-align: right;\">\n",
       "      <th></th>\n",
       "      <th>name</th>\n",
       "      <th>bike_availability</th>\n",
       "    </tr>\n",
       "  </thead>\n",
       "  <tbody>\n",
       "    <tr>\n",
       "      <th>20</th>\n",
       "      <td>Embarcadero at Sansome</td>\n",
       "      <td>8.864457</td>\n",
       "    </tr>\n",
       "  </tbody>\n",
       "</table>\n",
       "</div>"
      ],
      "text/plain": [
       "                      name  bike_availability\n",
       "20  Embarcadero at Sansome           8.864457"
      ]
     },
     "execution_count": 17,
     "metadata": {},
     "output_type": "execute_result"
    }
   ],
   "source": [
    "mid_earlyaft_availability[mid_earlyaft_availability['name'] == \"Embarcadero at Sansome\"]\n"
   ]
  },
  {
   "cell_type": "code",
   "execution_count": 18,
   "metadata": {},
   "outputs": [
    {
     "data": {
      "text/html": [
       "<div>\n",
       "<style scoped>\n",
       "    .dataframe tbody tr th:only-of-type {\n",
       "        vertical-align: middle;\n",
       "    }\n",
       "\n",
       "    .dataframe tbody tr th {\n",
       "        vertical-align: top;\n",
       "    }\n",
       "\n",
       "    .dataframe thead th {\n",
       "        text-align: right;\n",
       "    }\n",
       "</style>\n",
       "<table border=\"1\" class=\"dataframe\">\n",
       "  <thead>\n",
       "    <tr style=\"text-align: right;\">\n",
       "      <th></th>\n",
       "      <th>count</th>\n",
       "      <th>start_station_name</th>\n",
       "    </tr>\n",
       "  </thead>\n",
       "  <tbody>\n",
       "    <tr>\n",
       "      <th>0</th>\n",
       "      <td>8411</td>\n",
       "      <td>Embarcadero at Sansome</td>\n",
       "    </tr>\n",
       "  </tbody>\n",
       "</table>\n",
       "</div>"
      ],
      "text/plain": [
       "   count      start_station_name\n",
       "0   8411  Embarcadero at Sansome"
      ]
     },
     "execution_count": 18,
     "metadata": {},
     "output_type": "execute_result"
    }
   ],
   "source": [
    "pop_stations_mid_earlyaft[pop_stations_mid_earlyaft['start_station_name'] == \"Embarcadero at Sansome\"]\n"
   ]
  },
  {
   "cell_type": "markdown",
   "metadata": {},
   "source": [
    "##### On the other hand, Market at Sansome has the most available bikes, but is only the 9th popular station for customer trips."
   ]
  },
  {
   "cell_type": "code",
   "execution_count": 19,
   "metadata": {},
   "outputs": [
    {
     "data": {
      "text/html": [
       "<div>\n",
       "<style scoped>\n",
       "    .dataframe tbody tr th:only-of-type {\n",
       "        vertical-align: middle;\n",
       "    }\n",
       "\n",
       "    .dataframe tbody tr th {\n",
       "        vertical-align: top;\n",
       "    }\n",
       "\n",
       "    .dataframe thead th {\n",
       "        text-align: right;\n",
       "    }\n",
       "</style>\n",
       "<table border=\"1\" class=\"dataframe\">\n",
       "  <thead>\n",
       "    <tr style=\"text-align: right;\">\n",
       "      <th></th>\n",
       "      <th>name</th>\n",
       "      <th>bike_availability</th>\n",
       "    </tr>\n",
       "  </thead>\n",
       "  <tbody>\n",
       "    <tr>\n",
       "      <th>0</th>\n",
       "      <td>Market at Sansome</td>\n",
       "      <td>13.394439</td>\n",
       "    </tr>\n",
       "  </tbody>\n",
       "</table>\n",
       "</div>"
      ],
      "text/plain": [
       "                name  bike_availability\n",
       "0  Market at Sansome          13.394439"
      ]
     },
     "execution_count": 19,
     "metadata": {},
     "output_type": "execute_result"
    }
   ],
   "source": [
    "mid_earlyaft_availability[mid_earlyaft_availability['name'] == 'Market at Sansome']"
   ]
  },
  {
   "cell_type": "code",
   "execution_count": 20,
   "metadata": {},
   "outputs": [
    {
     "data": {
      "text/html": [
       "<div>\n",
       "<style scoped>\n",
       "    .dataframe tbody tr th:only-of-type {\n",
       "        vertical-align: middle;\n",
       "    }\n",
       "\n",
       "    .dataframe tbody tr th {\n",
       "        vertical-align: top;\n",
       "    }\n",
       "\n",
       "    .dataframe thead th {\n",
       "        text-align: right;\n",
       "    }\n",
       "</style>\n",
       "<table border=\"1\" class=\"dataframe\">\n",
       "  <thead>\n",
       "    <tr style=\"text-align: right;\">\n",
       "      <th></th>\n",
       "      <th>count</th>\n",
       "      <th>start_station_name</th>\n",
       "    </tr>\n",
       "  </thead>\n",
       "  <tbody>\n",
       "    <tr>\n",
       "      <th>8</th>\n",
       "      <td>2183</td>\n",
       "      <td>Market at Sansome</td>\n",
       "    </tr>\n",
       "  </tbody>\n",
       "</table>\n",
       "</div>"
      ],
      "text/plain": [
       "   count start_station_name\n",
       "8   2183  Market at Sansome"
      ]
     },
     "execution_count": 20,
     "metadata": {},
     "output_type": "execute_result"
    }
   ],
   "source": [
    "pop_stations_mid_earlyaft[pop_stations_mid_earlyaft['start_station_name'] == 'Market at Sansome']"
   ]
  },
  {
   "cell_type": "markdown",
   "metadata": {},
   "source": [
    "### Recommendation 2:\n",
    "\n",
    "There is a somewhat inverse relationship between bike availability and station popularity for the mid day/early afternoon hours. It may be more profitable to offer more bikes at the more popular stations, while cutting costs by offering less bikes at less popular stations. Basically, moving bikes where there is higher demand."
   ]
  },
  {
   "cell_type": "markdown",
   "metadata": {},
   "source": [
    "__________________________"
   ]
  },
  {
   "cell_type": "markdown",
   "metadata": {},
   "source": [
    "##### These are the most prominent customer trips that happen during the weekend.\n",
    "\n",
    "##### About 35 - 55 minutes in mid day/early afternoon at Embarcadero at Sansome, Harry Bridges Plaza (Ferry Building), 2nd at Townsend."
   ]
  },
  {
   "cell_type": "markdown",
   "metadata": {},
   "source": [
    "(H)"
   ]
  },
  {
   "cell_type": "code",
   "execution_count": 21,
   "metadata": {},
   "outputs": [
    {
     "name": "stdout",
     "output_type": "stream",
     "text": [
      "Waiting on bqjob_r350f5f5eeed54df3_00000174e80fcc0b_1 ... (0s) Current status: DONE   \n"
     ]
    }
   ],
   "source": [
    "! bq query --use_legacy_sql=FALSE --format=csv 'SELECT COUNT(*) AS count, avg(duration_sec/60) AS avg_min, start_station_name, CASE WHEN EXTRACT(HOUR FROM start_date) <= 5  OR EXTRACT(HOUR FROM start_date) >= 23 THEN \"Nightime\" WHEN EXTRACT(HOUR FROM start_date) >= 6 and EXTRACT(HOUR FROM start_date) <= 8 THEN \"Morning\" WHEN EXTRACT(HOUR FROM start_date) >= 9 and EXTRACT(HOUR FROM start_date) <= 10 THEN \"Mid Morning\" WHEN EXTRACT(HOUR FROM start_date) >= 11 and EXTRACT(HOUR FROM start_date) <= 13 THEN \"Mid Day\" WHEN EXTRACT(HOUR FROM start_date) >= 14 and EXTRACT(HOUR FROM start_date) <= 16 THEN \"Early Afternoon\" WHEN EXTRACT(HOUR FROM start_date) >= 17 and EXTRACT(HOUR FROM start_date) <= 19 THEN \"Afternoon\" WHEN EXTRACT(HOUR FROM start_date) >= 20 and EXTRACT(HOUR FROM start_date) <= 22 THEN \"Evening\" END AS start_hour_str FROM `my-first-project-287722.bike_trip_data.bikeshare_trips` WHERE EXTRACT(DAYOFWEEK FROM start_date) IN (1, 7) GROUP BY start_station_name, start_hour_str ORDER BY count DESC' > cust_trip_weekend.csv"
   ]
  },
  {
   "cell_type": "code",
   "execution_count": 22,
   "metadata": {},
   "outputs": [
    {
     "data": {
      "text/html": [
       "<div>\n",
       "<style scoped>\n",
       "    .dataframe tbody tr th:only-of-type {\n",
       "        vertical-align: middle;\n",
       "    }\n",
       "\n",
       "    .dataframe tbody tr th {\n",
       "        vertical-align: top;\n",
       "    }\n",
       "\n",
       "    .dataframe thead th {\n",
       "        text-align: right;\n",
       "    }\n",
       "</style>\n",
       "<table border=\"1\" class=\"dataframe\">\n",
       "  <thead>\n",
       "    <tr style=\"text-align: right;\">\n",
       "      <th></th>\n",
       "      <th>count</th>\n",
       "      <th>avg_min</th>\n",
       "      <th>start_station_name</th>\n",
       "      <th>start_hour_str</th>\n",
       "    </tr>\n",
       "  </thead>\n",
       "  <tbody>\n",
       "    <tr>\n",
       "      <th>0</th>\n",
       "      <td>2995</td>\n",
       "      <td>40.426388</td>\n",
       "      <td>Embarcadero at Sansome</td>\n",
       "      <td>Early Afternoon</td>\n",
       "    </tr>\n",
       "    <tr>\n",
       "      <th>1</th>\n",
       "      <td>2808</td>\n",
       "      <td>54.157425</td>\n",
       "      <td>Harry Bridges Plaza (Ferry Building)</td>\n",
       "      <td>Mid Day</td>\n",
       "    </tr>\n",
       "    <tr>\n",
       "      <th>2</th>\n",
       "      <td>2510</td>\n",
       "      <td>45.275000</td>\n",
       "      <td>Harry Bridges Plaza (Ferry Building)</td>\n",
       "      <td>Early Afternoon</td>\n",
       "    </tr>\n",
       "    <tr>\n",
       "      <th>3</th>\n",
       "      <td>2196</td>\n",
       "      <td>44.550258</td>\n",
       "      <td>Embarcadero at Sansome</td>\n",
       "      <td>Mid Day</td>\n",
       "    </tr>\n",
       "    <tr>\n",
       "      <th>4</th>\n",
       "      <td>1875</td>\n",
       "      <td>26.243307</td>\n",
       "      <td>Embarcadero at Sansome</td>\n",
       "      <td>Afternoon</td>\n",
       "    </tr>\n",
       "  </tbody>\n",
       "</table>\n",
       "</div>"
      ],
      "text/plain": [
       "   count    avg_min                    start_station_name   start_hour_str\n",
       "0   2995  40.426388                Embarcadero at Sansome  Early Afternoon\n",
       "1   2808  54.157425  Harry Bridges Plaza (Ferry Building)          Mid Day\n",
       "2   2510  45.275000  Harry Bridges Plaza (Ferry Building)  Early Afternoon\n",
       "3   2196  44.550258                Embarcadero at Sansome          Mid Day\n",
       "4   1875  26.243307                Embarcadero at Sansome        Afternoon"
      ]
     },
     "execution_count": 22,
     "metadata": {},
     "output_type": "execute_result"
    }
   ],
   "source": [
    "cust_trip_weekend = pd.read_csv(\"cust_trip_weekend.csv\")\n",
    "cust_trip_weekend.head()"
   ]
  },
  {
   "cell_type": "markdown",
   "metadata": {},
   "source": [
    "##### Early Afternoon, Mid Day, and Mid Morning trips have higher trip durations (in minutes) on average than compared to afternoon, evening, and morning trips."
   ]
  },
  {
   "cell_type": "code",
   "execution_count": 23,
   "metadata": {},
   "outputs": [
    {
     "data": {
      "image/png": "[encoded data removed]",
      "text/plain": [
       "<Figure size 432x288 with 1 Axes>"
      ]
     },
     "metadata": {
      "needs_background": "light"
     },
     "output_type": "display_data"
    }
   ],
   "source": [
    "ax = sns.boxplot(x='start_hour_str', y='avg_min', data=cust_trip_weekend)\n",
    "ax.set_xticklabels(ax.get_xticklabels(), rotation=40, ha=\"right\")\n",
    "plt.tight_layout()\n",
    "plt.show()"
   ]
  },
  {
   "cell_type": "markdown",
   "metadata": {},
   "source": [
    "### Recommendation 3:\n",
    "\n",
    "It looks like most customer trips on the weekends take on average 35 - 55 minutes. The current offer for an access pass or monthly/yearly subscription has a cap for 45 minutes.\n",
    "\n",
    "From 9AM-4PM (Mid Morning, Mid Day, Early Afternoon) We recommend giving a similar offer (access pass) that extends this cap to 1 hour at the same price or offer a discounted rate for each 15 minutes after 45 minutes in order to attract more potential customers looking to bike on the weekends."
   ]
  },
  {
   "cell_type": "markdown",
   "metadata": {},
   "source": [
    "____________________"
   ]
  },
  {
   "cell_type": "markdown",
   "metadata": {},
   "source": [
    "# Conclusions\n",
    "\n",
    "#### The 5 most popular \"commuter\" trips would have to be a morning or afternoon trip from one of these stations:¶\n",
    "1. San Francisco Caltrain (Townsend at 4th)\n",
    "2. San Francisco Caltrain 2 (330 Townsend)\n",
    "3. Temporary Transbay Terminal (Howard at Beale)\n",
    "4. Harry Bridges Plaza (Ferry Building)\n",
    "5. Steuart at Market\n",
    "\n",
    "#### Recommendations List:\n",
    "1. Single ride caps at 30 minutes and charge additional fees every 15 minutes. For customers without a subscription, I would recommend advertising monthly memberships that highlight the unlimited amount of 45-minute rides or at least an access pass that offers unlimited amount of 45-minute rides for a day. This can potentially lead to new subscribers.\n",
    "\n",
    "2. There is a somewhat inverse relationship between bike availability and station popularity for the mid day/early afternoon hours. It may be more profitable to offer more bikes at the more popular stations, while cutting costs by offering less bikes at less popular stations. Basically, moving bikes where there is higher demand.\n",
    "\n",
    "3. It looks like most customer trips on the weekends take on average 35 - 55 minutes. The current offer for an access pass or monthly/yearly subscription has a cap for 45 minutes. From 9AM-4PM (Mid Morning, Mid Day, Early Afternoon) We recommend giving a similar offer (access pass) that extends this cap to 1 hour at the same price or offer a discounted rate for each 15 minutes after 45 minutes in order to attract more potential customers looking to bike on the weekends."
   ]
  },
  {
   "cell_type": "markdown",
   "metadata": {},
   "source": [
    "# Appendix"
   ]
  },
  {
   "cell_type": "markdown",
   "metadata": {},
   "source": [
    "(A) \n",
    "\n",
    "```sql\n",
    "#standardSQL\n",
    "SELECT COUNT(*) AS count,\n",
    "    CASE \n",
    "        WHEN EXTRACT(HOUR FROM start_date) <= 5  OR EXTRACT(HOUR FROM start_date) >= 23 THEN \"Nightime\"\n",
    "        WHEN EXTRACT(HOUR FROM start_date) >= 6 and EXTRACT(HOUR FROM start_date) <= 8 THEN \"Morning\"\n",
    "        WHEN EXTRACT(HOUR FROM start_date) >= 9 and EXTRACT(HOUR FROM start_date) <= 10 THEN \"Mid Morning\"\n",
    "        WHEN EXTRACT(HOUR FROM start_date) >= 11 and EXTRACT(HOUR FROM start_date) <= 13 THEN \"Mid Day\"\n",
    "        WHEN EXTRACT(HOUR FROM start_date) >= 14 and EXTRACT(HOUR FROM start_date) <= 16 THEN \"Early Afternoon\"\n",
    "        WHEN EXTRACT(HOUR FROM start_date) >= 17 and EXTRACT(HOUR FROM start_date) <= 19 THEN \"Afternoon\"\n",
    "        WHEN EXTRACT(HOUR FROM start_date) >= 20 and EXTRACT(HOUR FROM start_date) <= 22 THEN \"Evening\"\n",
    "        END AS start_hour_str\n",
    "FROM `my-first-project-287722.bike_trip_data.bikeshare_trips`\n",
    "WHERE subscriber_type=\"Subscriber\"\n",
    "GROUP BY start_hour_str\n",
    "ORDER BY count DESC\n",
    "```"
   ]
  },
  {
   "cell_type": "markdown",
   "metadata": {},
   "source": [
    "(B)\n",
    "```sql\n",
    "#standardSQL\n",
    "SELECT COUNT(*) AS count, start_station_name\n",
    "FROM `my-first-project-287722.bike_trip_data.bikeshare_trips`\n",
    "WHERE subscriber_type = \"Subscriber\" AND ((EXTRACT(HOUR FROM start_date) >= 6 and EXTRACT(HOUR FROM start_date) <= 8) OR (EXTRACT(HOUR FROM start_date) >= 17 and EXTRACT(HOUR FROM start_date) <= 19) )\n",
    "GROUP BY start_station_name, subscriber_type\n",
    "ORDER BY count DESC LIMIT 5\n",
    "```"
   ]
  },
  {
   "cell_type": "markdown",
   "metadata": {},
   "source": [
    "(C)\n",
    "```sql\n",
    "#standardSQL\n",
    "SELECT avg(duration_sec/60) AS avg_duration_min,\n",
    "    CASE\n",
    "        WHEN EXTRACT(HOUR FROM start_date) <= 5  OR EXTRACT(HOUR FROM start_date) >= 23 THEN \"Nightime\"\n",
    "        WHEN EXTRACT(HOUR FROM start_date) >= 6 and EXTRACT(HOUR FROM start_date) <= 8 THEN \"Morning\"\n",
    "        WHEN EXTRACT(HOUR FROM start_date) >= 9 and EXTRACT(HOUR FROM start_date) <= 10 THEN \"Mid Morning\"\n",
    "        WHEN EXTRACT(HOUR FROM start_date) >= 11 and EXTRACT(HOUR FROM start_date) <= 13 THEN \"Mid Day\"\n",
    "        WHEN EXTRACT(HOUR FROM start_date) >= 14 and EXTRACT(HOUR FROM start_date) <= 16 THEN \"Early Afternoon\"\n",
    "        WHEN EXTRACT(HOUR FROM start_date) >= 17 and EXTRACT(HOUR FROM start_date) <= 19 THEN \"Afternoon\"\n",
    "        WHEN EXTRACT(HOUR FROM start_date) >= 20 and EXTRACT(HOUR FROM start_date) <= 22 THEN \"Evening\"\n",
    "        END AS start_hour_str\n",
    "FROM `bigquery-public-data.san_francisco.bikeshare_trips`\n",
    "WHERE subscriber_type = \"Subscriber\"\n",
    "GROUP BY start_hour_str, subscriber_type\n",
    "```"
   ]
  },
  {
   "cell_type": "markdown",
   "metadata": {},
   "source": [
    "(D)\n",
    "```sql\n",
    "#standardSQL\n",
    "SELECT avg(duration_sec/60) AS avg_duration_min,\n",
    "    CASE\n",
    "        WHEN EXTRACT(HOUR FROM start_date) <= 5  OR EXTRACT(HOUR FROM start_date) >= 23 THEN \"Nightime\"\n",
    "        WHEN EXTRACT(HOUR FROM start_date) >= 6 and EXTRACT(HOUR FROM start_date) <= 8 THEN \"Morning\"\n",
    "        WHEN EXTRACT(HOUR FROM start_date) >= 9 and EXTRACT(HOUR FROM start_date) <= 10 THEN \"Mid Morning\"\n",
    "        WHEN EXTRACT(HOUR FROM start_date) >= 11 and EXTRACT(HOUR FROM start_date) <= 13 THEN \"Mid Day\"\n",
    "        WHEN EXTRACT(HOUR FROM start_date) >= 14 and EXTRACT(HOUR FROM start_date) <= 16 THEN \"Early Afternoon\"\n",
    "        WHEN EXTRACT(HOUR FROM start_date) >= 17 and EXTRACT(HOUR FROM start_date) <= 19 THEN \"Afternoon\"\n",
    "        WHEN EXTRACT(HOUR FROM start_date) >= 20 and EXTRACT(HOUR FROM start_date) <= 22 THEN \"Evening\"\n",
    "        END AS start_hour_str\n",
    "FROM `bigquery-public-data.san_francisco.bikeshare_trips`\n",
    "WHERE subscriber_type = \"Customer\"\n",
    "GROUP BY start_hour_str, subscriber_type\n",
    "```"
   ]
  },
  {
   "cell_type": "markdown",
   "metadata": {},
   "source": [
    "(E)\n",
    "```sql\n",
    "#standardSQL\n",
    "SELECT COUNT(*) AS count,\n",
    "    CASE\n",
    "        WHEN EXTRACT(HOUR FROM start_date) <= 5  OR EXTRACT(HOUR FROM start_date) >= 23 THEN \"Nightime\"\n",
    "        WHEN EXTRACT(HOUR FROM start_date) >= 6 and EXTRACT(HOUR FROM start_date) <= 8 THEN \"Morning\"\n",
    "        WHEN EXTRACT(HOUR FROM start_date) >= 9 and EXTRACT(HOUR FROM start_date) <= 10 THEN \"Mid Morning\"\n",
    "        WHEN EXTRACT(HOUR FROM start_date) >= 11 and EXTRACT(HOUR FROM start_date) <= 13 THEN \"Mid Day\"\n",
    "        WHEN EXTRACT(HOUR FROM start_date) >= 14 and EXTRACT(HOUR FROM start_date) <= 16 THEN \"Early Afternoon\"\n",
    "        WHEN EXTRACT(HOUR FROM start_date) >= 17 and EXTRACT(HOUR FROM start_date) <= 19 THEN \"Afternoon\"\n",
    "        WHEN EXTRACT(HOUR FROM start_date) >= 20 and EXTRACT(HOUR FROM start_date) <= 22 THEN \"Evening\"\n",
    "        END AS start_hour_str\n",
    "FROM `my-first-project-287722.bike_trip_data.bikeshare_trips`\n",
    "WHERE subscriber_type=\"Customer\"\n",
    "GROUP BY start_hour_str\n",
    "ORDER BY count DESC\n",
    "```"
   ]
  },
  {
   "cell_type": "markdown",
   "metadata": {},
   "source": [
    "(F)\n",
    "```sql\n",
    "#standardSQL\n",
    "SELECT COUNT(*) AS count, start_station_name\n",
    "FROM `my-first-project-287722.bike_trip_data.bikeshare_trips`\n",
    "WHERE subscriber_type = \"Customer\" AND ((EXTRACT(HOUR FROM start_date) >= 11 and EXTRACT(HOUR FROM start_date) <= 13) OR (EXTRACT(HOUR FROM start_date) >= 14 and EXTRACT(HOUR FROM start_date) <= 16) )\n",
    "GROUP BY start_station_name, subscriber_type\n",
    "ORDER BY count DESC\n",
    "```"
   ]
  },
  {
   "cell_type": "markdown",
   "metadata": {},
   "source": [
    "(G)\n",
    "```sql\n",
    "#standardSQL\n",
    "SELECT stations.name, avg(status.bikes_available) AS bike_availability\n",
    "FROM `my-first-project-287722.bike_trip_data.bikeshare_status` status\n",
    "LEFT JOIN `my-first-project-287722.bike_trip_data.bikeshare_stations` stations ON status.station_id = stations.station_id AND ((EXTRACT(HOUR FROM status.time) >= 11 AND EXTRACT(HOUR FROM status.time) <= 13) OR (EXTRACT(HOUR FROM status.time) >= 14 AND EXTRACT(HOUR FROM status.time) <= 16))\n",
    "GROUP BY stations.name\n",
    "ORDER BY bike_availability DESC\n",
    "```\n"
   ]
  },
  {
   "cell_type": "markdown",
   "metadata": {},
   "source": [
    "(H)\n",
    "```sql\n",
    "#standardSQL\n",
    "SELECT COUNT(*) AS count,\n",
    "       avg(duration_sec/60) AS avg_min,\n",
    "       start_station_name,\n",
    "       CASE \n",
    "           WHEN EXTRACT(HOUR FROM start_date) <= 5  OR EXTRACT(HOUR FROM start_date) >= 23 THEN \"Nightime\"\n",
    "           WHEN EXTRACT(HOUR FROM start_date) >= 6 and EXTRACT(HOUR FROM start_date) <= 8 THEN \"Morning\"\n",
    "           WHEN EXTRACT(HOUR FROM start_date) >= 9 and EXTRACT(HOUR FROM start_date) <= 10 THEN \"Mid Morning\"\n",
    "           WHEN EXTRACT(HOUR FROM start_date) >= 11 and EXTRACT(HOUR FROM start_date) <= 13 THEN \"Mid Day\"\n",
    "           WHEN EXTRACT(HOUR FROM start_date) >= 14 and EXTRACT(HOUR FROM start_date) <= 16 THEN \"Early Afternoon\"\n",
    "           WHEN EXTRACT(HOUR FROM start_date) >= 17 and EXTRACT(HOUR FROM start_date) <= 19 THEN \"Afternoon\"\n",
    "           WHEN EXTRACT(HOUR FROM start_date) >= 20 and EXTRACT(HOUR FROM start_date) <= 22 THEN \"Evening\"\n",
    "           END AS start_hour_str\n",
    "FROM `my-first-project-287722.bike_trip_data.bikeshare_trips`\n",
    "WHERE EXTRACT(DAYOFWEEK FROM start_date) IN (1, 7) AND\n",
    "      ((EXTRACT(HOUR FROM start_date) >= 11 and EXTRACT(HOUR FROM start_date) <= 13) OR\n",
    "      (EXTRACT(HOUR FROM start_date) >= 14 and EXTRACT(HOUR FROM start_date) <= 16))\n",
    "GROUP BY start_station_name, start_hour_str\n",
    "ORDER BY count DESC\n",
    "```"
   ]
  },
  {
   "cell_type": "code",
   "execution_count": null,
   "metadata": {},
   "outputs": [],
   "source": []
  }
 ],
 "metadata": {
  "environment": {
   "name": "tf2-2-3-gpu.2-3.m55",
   "type": "gcloud",
   "uri": "gcr.io/deeplearning-platform-release/tf2-2-3-gpu.2-3:m55"
  },
  "kernelspec": {
   "display_name": "Python 3",
   "language": "python",
   "name": "python3"
  },
  "language_info": {
   "codemirror_mode": {
    "name": "ipython",
    "version": 3
   },
   "file_extension": ".py",
   "mimetype": "text/x-python",
   "name": "python",
   "nbconvert_exporter": "python",
   "pygments_lexer": "ipython3",
   "version": "3.7.8"
  }
 },
 "nbformat": 4,
 "nbformat_minor": 4
}
